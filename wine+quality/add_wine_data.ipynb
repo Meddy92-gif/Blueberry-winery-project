{
 "cells": [
  {
   "cell_type": "code",
   "execution_count": 2,
   "metadata": {},
   "outputs": [],
   "source": [
    "import numpy as np\n",
    "import pandas as pd\n",
    "import matplotlib as plt \n",
    "import matplotlib.pyplot as plt\n",
    "import seaborn as sns\n",
    "from scipy import stats\n"
   ]
  },
  {
   "cell_type": "code",
   "execution_count": 12,
   "metadata": {},
   "outputs": [
    {
     "data": {
      "text/html": [
       "<div>\n",
       "<style scoped>\n",
       "    .dataframe tbody tr th:only-of-type {\n",
       "        vertical-align: middle;\n",
       "    }\n",
       "\n",
       "    .dataframe tbody tr th {\n",
       "        vertical-align: top;\n",
       "    }\n",
       "\n",
       "    .dataframe thead th {\n",
       "        text-align: right;\n",
       "    }\n",
       "</style>\n",
       "<table border=\"1\" class=\"dataframe\">\n",
       "  <thead>\n",
       "    <tr style=\"text-align: right;\">\n",
       "      <th></th>\n",
       "      <th>Year</th>\n",
       "      <th>White</th>\n",
       "      <th>Alvarinho</th>\n",
       "      <th>Loureiro</th>\n",
       "      <th>Production</th>\n",
       "      <th>Ex - Liters</th>\n",
       "      <th>Ex - Euro</th>\n",
       "    </tr>\n",
       "  </thead>\n",
       "  <tbody>\n",
       "    <tr>\n",
       "      <th>0</th>\n",
       "      <td>2010</td>\n",
       "      <td>41715374</td>\n",
       "      <td>1290185</td>\n",
       "      <td>1536625</td>\n",
       "      <td>52329312</td>\n",
       "      <td>16777000</td>\n",
       "      <td>37898000</td>\n",
       "    </tr>\n",
       "    <tr>\n",
       "      <th>1</th>\n",
       "      <td>2011</td>\n",
       "      <td>41140002</td>\n",
       "      <td>1290780</td>\n",
       "      <td>1605230</td>\n",
       "      <td>51330358</td>\n",
       "      <td>17534847</td>\n",
       "      <td>39244460</td>\n",
       "    </tr>\n",
       "    <tr>\n",
       "      <th>2</th>\n",
       "      <td>2012</td>\n",
       "      <td>40243196</td>\n",
       "      <td>1300786</td>\n",
       "      <td>1786141</td>\n",
       "      <td>50224764</td>\n",
       "      <td>18462124</td>\n",
       "      <td>41872466</td>\n",
       "    </tr>\n",
       "    <tr>\n",
       "      <th>3</th>\n",
       "      <td>2013</td>\n",
       "      <td>41618103</td>\n",
       "      <td>1200585</td>\n",
       "      <td>1700895</td>\n",
       "      <td>51880168</td>\n",
       "      <td>19363402</td>\n",
       "      <td>43905908</td>\n",
       "    </tr>\n",
       "    <tr>\n",
       "      <th>4</th>\n",
       "      <td>2014</td>\n",
       "      <td>43150809</td>\n",
       "      <td>1414684</td>\n",
       "      <td>1917184</td>\n",
       "      <td>54951931</td>\n",
       "      <td>22597104</td>\n",
       "      <td>50605562</td>\n",
       "    </tr>\n",
       "  </tbody>\n",
       "</table>\n",
       "</div>"
      ],
      "text/plain": [
       "   Year     White  Alvarinho  Loureiro  Production  Ex - Liters   Ex - Euro\n",
       "0  2010  41715374    1290185   1536625    52329312     16777000    37898000\n",
       "1  2011  41140002    1290780   1605230    51330358     17534847    39244460\n",
       "2  2012  40243196    1300786   1786141    50224764     18462124    41872466\n",
       "3  2013  41618103    1200585   1700895    51880168     19363402    43905908\n",
       "4  2014  43150809    1414684   1917184    54951931     22597104    50605562"
      ]
     },
     "execution_count": 12,
     "metadata": {},
     "output_type": "execute_result"
    }
   ],
   "source": [
    "vw = pd.read_excel(\"C:/Users/media/Downloads/Comercialização por ano.xlsx\")\n",
    "vw.head()"
   ]
  }
 ],
 "metadata": {
  "kernelspec": {
   "display_name": "My_environment",
   "language": "python",
   "name": "python3"
  },
  "language_info": {
   "codemirror_mode": {
    "name": "ipython",
    "version": 3
   },
   "file_extension": ".py",
   "mimetype": "text/x-python",
   "name": "python",
   "nbconvert_exporter": "python",
   "pygments_lexer": "ipython3",
   "version": "3.12.4"
  }
 },
 "nbformat": 4,
 "nbformat_minor": 2
}
